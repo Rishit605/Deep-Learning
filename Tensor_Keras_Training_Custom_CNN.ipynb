{
  "nbformat": 4,
  "nbformat_minor": 0,
  "metadata": {
    "colab": {
      "provenance": [],
      "include_colab_link": true
    },
    "kernelspec": {
      "name": "python3",
      "display_name": "Python 3"
    },
    "language_info": {
      "name": "python"
    },
    "accelerator": "GPU",
    "gpuClass": "standard"
  },
  "cells": [
    {
      "cell_type": "markdown",
      "metadata": {
        "id": "view-in-github",
        "colab_type": "text"
      },
      "source": [
        "<a href=\"https://colab.research.google.com/github/Rishit605/Deep-Learning/blob/main/Tensor_Keras_Training_Custom_CNN.ipynb\" target=\"_parent\"><img src=\"https://colab.research.google.com/assets/colab-badge.svg\" alt=\"Open In Colab\"/></a>"
      ]
    },
    {
      "cell_type": "code",
      "execution_count": null,
      "metadata": {
        "id": "1WKtOUzvgW9r",
        "colab": {
          "base_uri": "https://localhost:8080/"
        },
        "outputId": "64bd40b3-b49b-4145-f980-b8a05ec00b14"
      },
      "outputs": [
        {
          "output_type": "stream",
          "name": "stdout",
          "text": [
            "Mounted at /content/drive\n",
            "Note: using Google CoLab\n"
          ]
        }
      ],
      "source": [
        "## This method is used for connecting Google Drive to this Noebook and Access the Drive data.\n",
        "## This is a Code Snippet I had found on a python file from the internet.\n",
        "\n",
        "try:\n",
        "    from google.colab import drive\n",
        "    drive.mount('/content/drive', force_remount=True)\n",
        "    COLAB = True\n",
        "    print(\"Note: using Google CoLab\")\n",
        "except:\n",
        "    print(\"Note: not using Google CoLab\")\n",
        "    COLAB = False"
      ]
    },
    {
      "cell_type": "code",
      "source": [
        "cd \"/content/drive/MyDrive/Precision Agriculture/Task1 Team-4\" ## 'cd' stands for Change Directory and can be used for changing directory, Use this function and change the file path, put the file path after cd."
      ],
      "metadata": {
        "colab": {
          "base_uri": "https://localhost:8080/"
        },
        "id": "G_WNblI1GQlN",
        "outputId": "a2faafdc-5336-4899-d581-9ea61f153185"
      },
      "execution_count": null,
      "outputs": [
        {
          "output_type": "stream",
          "name": "stdout",
          "text": [
            "/content/drive/MyDrive/Precision Agriculture/Task1 Team-4\n"
          ]
        }
      ]
    },
    {
      "cell_type": "code",
      "source": [
        "pwd # This is used for printing out what is the current directory we are in."
      ],
      "metadata": {
        "colab": {
          "base_uri": "https://localhost:8080/",
          "height": 35
        },
        "id": "irzsowjoGhIM",
        "outputId": "ee0aba14-86c6-4ab6-8e6a-6cb67b837a0b"
      },
      "execution_count": null,
      "outputs": [
        {
          "output_type": "execute_result",
          "data": {
            "text/plain": [
              "'/content/drive/MyDrive/Precision Agriculture/Task1 Team-4'"
            ],
            "application/vnd.google.colaboratory.intrinsic+json": {
              "type": "string"
            }
          },
          "metadata": {},
          "execution_count": 9
        }
      ]
    },
    {
      "cell_type": "code",
      "source": [
        "## This function is Google Colab specific and is used to unzip a zip or rar file and '-d' defines the destination directory to which you need to extract the files to.\n",
        "\n",
        "# ! unzip '/content/drive/MyDrive/Precision Agriculture/Task1/dataset.zip' -d '/content/drive/MyDrive/Precision Agriculture/Task1 Prep Data/dataset'"
      ],
      "metadata": {
        "id": "fImJWurWG1-0"
      },
      "execution_count": null,
      "outputs": []
    },
    {
      "cell_type": "code",
      "source": [
        "## Importing Libraries\n",
        "\n",
        "import numpy as np\n",
        "from tensorflow import keras\n",
        "from keras import layers\n",
        "from tensorflow.keras.models import Sequential\n",
        "from tensorflow.keras.preprocessing.image import ImageDataGenerator as IDG\n",
        "\n",
        "from PIL import Image\n",
        "import os\n",
        "import matplotlib.pyplot as plt"
      ],
      "metadata": {
        "id": "25GrvvOpHGMU"
      },
      "execution_count": null,
      "outputs": []
    },
    {
      "cell_type": "code",
      "source": [
        "## Defining the path to the images.\n",
        "\n",
        "dat = \"/content/drive/MyDrive/Precision Agriculture/Task1 Team-4/dataset/dataset/PlantVillage\""
      ],
      "metadata": {
        "id": "dJoFwarlnTz_"
      },
      "execution_count": null,
      "outputs": []
    },
    {
      "cell_type": "code",
      "source": [
        "# Function used for Checking the Total No. of files\n",
        "\n",
        "def file_list(dir):\n",
        "  files_list = [f for f in os.listdir(dir) if os.path.isfile(os.path.join(dir, f))]\n",
        "  total_files = len(files_list)\n",
        "  return total_files"
      ],
      "metadata": {
        "id": "q_F2gkB_rKEG"
      },
      "execution_count": null,
      "outputs": []
    },
    {
      "cell_type": "code",
      "source": [
        "file_list('/content/drive/MyDrive/Precision Agriculture/Task1 Prep Data/dataset/filtered_data/Applq')"
      ],
      "metadata": {
        "colab": {
          "base_uri": "https://localhost:8080/"
        },
        "id": "rnvDY6-Yr5y2",
        "outputId": "b4e2312e-d418-4602-bd5c-6b3e601b2190"
      },
      "execution_count": null,
      "outputs": [
        {
          "output_type": "execute_result",
          "data": {
            "text/plain": [
              "75"
            ]
          },
          "metadata": {},
          "execution_count": 7
        }
      ]
    },
    {
      "cell_type": "code",
      "source": [
        "pwd"
      ],
      "metadata": {
        "colab": {
          "base_uri": "https://localhost:8080/",
          "height": 35
        },
        "id": "RFYpiaXrsvAP",
        "outputId": "7e1b4109-a76e-4403-f288-dafbbe360ef2"
      },
      "execution_count": null,
      "outputs": [
        {
          "output_type": "execute_result",
          "data": {
            "text/plain": [
              "'/content/drive/MyDrive/Precision Agriculture/Task1 Prep Data'"
            ],
            "application/vnd.google.colaboratory.intrinsic+json": {
              "type": "string"
            }
          },
          "metadata": {},
          "execution_count": 16
        }
      ]
    },
    {
      "cell_type": "code",
      "source": [
        "## Filtering the RGBA formate images\n",
        "## This comes under data manipulation>data Filtering \n",
        "## This function is used to filter and save RGB images to a different directory and custom function that I created. And can be used for a new dataset.\n",
        "\n",
        "filt = []\n",
        "\n",
        "def a_filt(src_path, img_size, tar_path):\n",
        "    for f in os.listdir(src_path):\n",
        "        if f.endswith(\".png\") or f.endswith(\".PNG\") or f.endswith(\".jpg\") or f.endswith(\".jpeg\"):\n",
        "            im = Image.open(os.path.join(src_path, f))\n",
        "            if im.mode == \"RGBA\":\n",
        "                print(f\"{f} has an alpha channel.\")\n",
        "                filt.append(f)\n",
        "            with Image.open(f'{src_path}/{f}') as img:\n",
        "                img_con = img.convert(\"RGB\")\n",
        "                img_a = img_con.resize((img_size))\n",
        "                img_a.save(f'{tar_path}/{f}')\n",
        "            if im.mode == \"RGB\":\n",
        "                print(\"0\")\n",
        "                img = img.resize((img_size))\n",
        "                img.save(f'{tar_path}/{f}')\n",
        "    print('\\nTotal Number of Files: ' , len(filt))"
      ],
      "metadata": {
        "id": "jxQq8QI_sBjV"
      },
      "execution_count": null,
      "outputs": []
    },
    {
      "cell_type": "code",
      "source": [
        "a_filt(\"/content/drive/MyDrive/Precision Agriculture/Task1 Prep Data/dataset/dataset/orange\", (224, 224), '/content/drive/MyDrive/Precision Agriculture/Task1 Prep Data/dataset/filtered_data/Orange')"
      ],
      "metadata": {
        "id": "hn6YI37ltQnn"
      },
      "execution_count": null,
      "outputs": []
    },
    {
      "cell_type": "code",
      "source": [
        "\"\"\"\n",
        "orange has 10 alpha\n",
        "apple has 14 aplha \n",
        "banana has 21 aplha\n",
        "\"\"\""
      ],
      "metadata": {
        "colab": {
          "base_uri": "https://localhost:8080/",
          "height": 35
        },
        "id": "_6COlcBeuEvV",
        "outputId": "c1f7cfd4-6739-46c7-9ac6-07d16bb270e3"
      },
      "execution_count": null,
      "outputs": [
        {
          "output_type": "execute_result",
          "data": {
            "text/plain": [
              "'\\norange has 10 alpha\\napple has 14 aplha \\nbanana has 21 aplha\\n'"
            ],
            "application/vnd.google.colaboratory.intrinsic+json": {
              "type": "string"
            }
          },
          "metadata": {},
          "execution_count": 35
        }
      ]
    },
    {
      "cell_type": "code",
      "source": [
        "## PARAMETERS\n",
        "## These varaibles define \n",
        "\n",
        "BATCH_SIZE=64\n",
        "IMG_SIZE=(150, 150)"
      ],
      "metadata": {
        "id": "FqiCCK1_w9UG"
      },
      "execution_count": null,
      "outputs": []
    },
    {
      "cell_type": "code",
      "source": [
        "filt_dat = '/content/drive/MyDrive/Precision Agriculture/Task1 Prep Data/dataset/filtered_data-150 (custom CNN)'"
      ],
      "metadata": {
        "id": "lqWL1W9209sx"
      },
      "execution_count": null,
      "outputs": []
    },
    {
      "cell_type": "code",
      "source": [
        "## THis is an Import function that is provided by the Tensorflow/keras library.\n",
        "## It automatically load and mainpulate images without the need to save the maipulated images on the disk,\n",
        "## and automatically determines the classes, assuming that the images are speperated into different folder for classification.\n",
        "\n",
        "datagen = IDG( # These argumensts are used for Image Manipulation. And are not neccessay AT THE MOMENT but are very useful.\n",
        "    rescale=1./255, \n",
        "    rotation_range=40,\n",
        "    width_shift_range=0.2,\n",
        "    height_shift_range=0.2,\n",
        "    shear_range=0.2,\n",
        "    zoom_range=0.2,\n",
        "    horizontal_flip=True,\n",
        "    fill_mode='nearest'\n",
        ")\n",
        "\n",
        "train_gen = datagen.flow_from_directory(\n",
        "    filt_dat,\n",
        "    target_size=IMG_SIZE,\n",
        "    batch_size=BATCH_SIZE,\n",
        "    shuffle=True,\n",
        "    class_mode='categorical' ## This function defines the type of classifciation two arguments can be given are 'categorical' - for multiclass classification (more than 2) and 'binary' - for binary classification or classifying two classes.\n",
        ")\n",
        "\n",
        "# for i in range(10):\n",
        "# batch = train_gen.next()\n",
        "# print(batch[1])"
      ],
      "metadata": {
        "id": "2Y67CXd6u1Ok"
      },
      "execution_count": null,
      "outputs": []
    },
    {
      "cell_type": "code",
      "source": [
        "## This is a convolutional Neural Network.\n",
        "## You can learn about it from ChatGPT by asking \"Explain the architecture of a CNN for Image Classification with code.\"\n",
        "\n",
        "model = Sequential([\n",
        "    layers.Conv2D(32, (3,3), activation='relu', input_shape=(150, 150, 3)), ## This is an input layer. \n",
        "    layers.MaxPooling2D(pool_size=(2,2)),\n",
        "    layers.Conv2D(32, (3,3), activation='relu'), ## This is a Convolution Layers 2D defines height and width of an image, 1D is used in texts, 3D is used for 3D images and photogrammetry.\n",
        "    layers.MaxPooling2D(pool_size=(2,2)), ## This is a Pooling layer, whihc essentially uses the pool_size argument to look at 4 pxiels for (2,2) and take their ax value and map it to lower dimenational image.\n",
        "    layers.Conv2D(64, (3,3), activation='relu'),\n",
        "\n",
        "    layers.Flatten(),\n",
        "    layers.Dense(128, activation='relu'), ## This is a neuron fully_connected layer\n",
        "    layers.Dense(3, activation='softmax'), ## This is the output layer\n",
        "])\n",
        "\n",
        "model.summary()"
      ],
      "metadata": {
        "colab": {
          "base_uri": "https://localhost:8080/"
        },
        "id": "ywGJImzkvhYO",
        "outputId": "dad6c135-7efe-448d-e5cf-596faafaeafd"
      },
      "execution_count": null,
      "outputs": [
        {
          "output_type": "stream",
          "name": "stdout",
          "text": [
            "Model: \"sequential\"\n",
            "_________________________________________________________________\n",
            " Layer (type)                Output Shape              Param #   \n",
            "=================================================================\n",
            " conv2d (Conv2D)             (None, 148, 148, 32)      896       \n",
            "                                                                 \n",
            " max_pooling2d (MaxPooling2D  (None, 74, 74, 32)       0         \n",
            " )                                                               \n",
            "                                                                 \n",
            " conv2d_1 (Conv2D)           (None, 72, 72, 32)        9248      \n",
            "                                                                 \n",
            " max_pooling2d_1 (MaxPooling  (None, 36, 36, 32)       0         \n",
            " 2D)                                                             \n",
            "                                                                 \n",
            " conv2d_2 (Conv2D)           (None, 34, 34, 64)        18496     \n",
            "                                                                 \n",
            " flatten (Flatten)           (None, 73984)             0         \n",
            "                                                                 \n",
            " dense (Dense)               (None, 128)               9470080   \n",
            "                                                                 \n",
            " dense_1 (Dense)             (None, 3)                 387       \n",
            "                                                                 \n",
            "=================================================================\n",
            "Total params: 9,499,107\n",
            "Trainable params: 9,499,107\n",
            "Non-trainable params: 0\n",
            "_________________________________________________________________\n"
          ]
        }
      ]
    },
    {
      "cell_type": "code",
      "source": [
        "## Then we compile the model speperately as compatred to ML algorithms and specify our needs for the model to consider.\n",
        "\n",
        "opt = keras.optimizers.Adam(learning_rate=1e-3) ## This is fuction for defining custom Learning Rate and not neccessary for now. \n",
        "\n",
        "model.compile(loss=\"categorical_crossentropy\", optimizer=opt, metrics=['accuracy']) ## 'loss' is defined by the use for multiclass classification or binary classification"
      ],
      "metadata": {
        "id": "aknsKQnCwaRG"
      },
      "execution_count": null,
      "outputs": []
    },
    {
      "cell_type": "code",
      "source": [
        "history=model.fit(train_gen, epochs=25, steps_per_epoch=train_gen.samples//BATCH_SIZE, verbose=1) ## Training the mode take splace here."
      ],
      "metadata": {
        "colab": {
          "base_uri": "https://localhost:8080/"
        },
        "id": "Tf1eMkkqwy-F",
        "outputId": "380c3982-d51f-41ce-c803-3d424db1aae6"
      },
      "execution_count": null,
      "outputs": [
        {
          "output_type": "stream",
          "name": "stdout",
          "text": [
            "Epoch 1/25\n",
            "3/3 [==============================] - 3s 353ms/step - loss: 0.6593 - accuracy: 0.7628\n",
            "Epoch 2/25\n",
            "3/3 [==============================] - 1s 441ms/step - loss: 0.5263 - accuracy: 0.8229\n",
            "Epoch 3/25\n",
            "3/3 [==============================] - 1s 432ms/step - loss: 0.4637 - accuracy: 0.8646\n",
            "Epoch 4/25\n",
            "3/3 [==============================] - 1s 320ms/step - loss: 0.3770 - accuracy: 0.9038\n",
            "Epoch 5/25\n",
            "3/3 [==============================] - 1s 480ms/step - loss: 0.2891 - accuracy: 0.8910\n",
            "Epoch 6/25\n",
            "3/3 [==============================] - 1s 582ms/step - loss: 0.3367 - accuracy: 0.9038\n",
            "Epoch 7/25\n",
            "3/3 [==============================] - 2s 428ms/step - loss: 0.2654 - accuracy: 0.9103\n",
            "Epoch 8/25\n",
            "3/3 [==============================] - 1s 437ms/step - loss: 0.2617 - accuracy: 0.9115\n",
            "Epoch 9/25\n",
            "3/3 [==============================] - 1s 327ms/step - loss: 0.1965 - accuracy: 0.9423\n",
            "Epoch 10/25\n",
            "3/3 [==============================] - 1s 319ms/step - loss: 0.2221 - accuracy: 0.9167\n",
            "Epoch 11/25\n",
            "3/3 [==============================] - 1s 443ms/step - loss: 0.1643 - accuracy: 0.9427\n",
            "Epoch 12/25\n",
            "3/3 [==============================] - 1s 316ms/step - loss: 0.1434 - accuracy: 0.9615\n",
            "Epoch 13/25\n",
            "3/3 [==============================] - 1s 442ms/step - loss: 0.1216 - accuracy: 0.9740\n",
            "Epoch 14/25\n",
            "3/3 [==============================] - 2s 666ms/step - loss: 0.1108 - accuracy: 0.9635\n",
            "Epoch 15/25\n",
            "3/3 [==============================] - 1s 548ms/step - loss: 0.1456 - accuracy: 0.9615\n",
            "Epoch 16/25\n",
            "3/3 [==============================] - 1s 450ms/step - loss: 0.1162 - accuracy: 0.9635\n",
            "Epoch 17/25\n",
            "3/3 [==============================] - 1s 452ms/step - loss: 0.1001 - accuracy: 0.9615\n",
            "Epoch 18/25\n",
            "3/3 [==============================] - 1s 321ms/step - loss: 0.0921 - accuracy: 0.9808\n",
            "Epoch 19/25\n",
            "3/3 [==============================] - 1s 317ms/step - loss: 0.0732 - accuracy: 0.9808\n",
            "Epoch 20/25\n",
            "3/3 [==============================] - 2s 518ms/step - loss: 0.0695 - accuracy: 0.9792\n",
            "Epoch 21/25\n",
            "3/3 [==============================] - 2s 477ms/step - loss: 0.0901 - accuracy: 0.9744\n",
            "Epoch 22/25\n",
            "3/3 [==============================] - 1s 458ms/step - loss: 0.0609 - accuracy: 0.9808\n",
            "Epoch 23/25\n",
            "3/3 [==============================] - 1s 458ms/step - loss: 0.0528 - accuracy: 0.9872\n",
            "Epoch 24/25\n",
            "3/3 [==============================] - 1s 459ms/step - loss: 0.0375 - accuracy: 0.9872\n",
            "Epoch 25/25\n",
            "3/3 [==============================] - 1s 443ms/step - loss: 0.0263 - accuracy: 0.9896\n"
          ]
        }
      ]
    },
    {
      "cell_type": "code",
      "source": [
        "import matplotlib.pyplot as plt\n",
        "\n",
        "def plot_loss_acc(history):\n",
        "    acc = history.history['accuracy']\n",
        "#     val_acc = history.history['val_accuracy']\n",
        "    loss = history.history['loss']\n",
        "#     val_loss = history.history['val_loss']\n",
        "\n",
        "    epochs = range(len(acc))\n",
        "\n",
        "    plt.plot(epochs, acc, 'bo', label='Training accuracy')\n",
        "#     plt.plot(epochs, val_acc, 'b', label='Validation accuracy')\n",
        "    plt.title('Training and validation accuracy')\n",
        "    plt.legend()\n",
        "\n",
        "    plt.figure()\n",
        "\n",
        "    plt.plot(epochs, loss, 'bo', label='Training Loss')\n",
        "#     plt.plot(epochs, val_loss, 'b', label='Validation Loss')\n",
        "    plt.title('Training and validation loss')\n",
        "    plt.legend()\n",
        "\n",
        "    plt.show()\n",
        "    \n",
        "plot_loss_acc(history)"
      ],
      "metadata": {
        "colab": {
          "base_uri": "https://localhost:8080/",
          "height": 545
        },
        "id": "JE1fJWLoxXO1",
        "outputId": "4041ec64-92ed-460f-f8fc-55df66072d51"
      },
      "execution_count": null,
      "outputs": [
        {
          "output_type": "display_data",
          "data": {
            "text/plain": [
              "<Figure size 432x288 with 1 Axes>"
            ],
            "image/png": "[encoded data removed]"
          },
          "metadata": {
            "needs_background": "light"
          }
        },
        {
          "output_type": "display_data",
          "data": {
            "text/plain": [
              "<Figure size 432x288 with 1 Axes>"
            ],
            "image/png": "[encoded data removed]"
          },
          "metadata": {
            "needs_background": "light"
          }
        }
      ]
    },
    {
      "cell_type": "code",
      "source": [
        "pwd"
      ],
      "metadata": {
        "colab": {
          "base_uri": "https://localhost:8080/",
          "height": 35
        },
        "id": "yPnv9eto9WMn",
        "outputId": "671fb651-5be9-4ee9-b2ec-c190fdd07854"
      },
      "execution_count": null,
      "outputs": [
        {
          "output_type": "execute_result",
          "data": {
            "text/plain": [
              "'/content/drive/MyDrive/Precision Agriculture/Task1 Prep Data'"
            ],
            "application/vnd.google.colaboratory.intrinsic+json": {
              "type": "string"
            }
          },
          "metadata": {},
          "execution_count": 28
        }
      ]
    },
    {
      "cell_type": "code",
      "source": [
        "model.save('/content/drive/MyDrive/Precision Agriculture/Task1 Prep Data/model/CutomCNN.h5', save_format='h5') ## We can save our model using this method."
      ],
      "metadata": {
        "id": "FgWkbskUH1Jm"
      },
      "execution_count": null,
      "outputs": []
    },
    {
      "cell_type": "code",
      "source": [
        "from google.colab import files\n",
        "\n",
        "uploaded = files.upload()\n",
        "\n",
        "for fn in uploaded.keys():\n",
        "  print('User uploaded file \"{name}\" with length {length} bytes'.format(\n",
        "      name=fn, length=len(uploaded[fn])))"
      ],
      "metadata": {
        "colab": {
          "base_uri": "https://localhost:8080/",
          "height": 110
        },
        "id": "8TWOoAIv8hyt",
        "outputId": "cc36100e-9a1b-44e2-aacd-ac64c228ecc2"
      },
      "execution_count": null,
      "outputs": [
        {
          "output_type": "display_data",
          "data": {
            "text/plain": [
              "<IPython.core.display.HTML object>"
            ],
            "text/html": [
              "\n",
              "     <input type=\"file\" id=\"files-81de3d24-dc76-4dd3-a6b0-7c2ca3d4b46d\" name=\"files[]\" multiple disabled\n",
              "        style=\"border:none\" />\n",
              "     <output id=\"result-81de3d24-dc76-4dd3-a6b0-7c2ca3d4b46d\">\n",
              "      Upload widget is only available when the cell has been executed in the\n",
              "      current browser session. Please rerun this cell to enable.\n",
              "      </output>\n",
              "      <script>// Copyright 2017 Google LLC\n",
              "//\n",
              "// Licensed under the Apache License, Version 2.0 (the \"License\");\n",
              "// you may not use this file except in compliance with the License.\n",
              "// You may obtain a copy of the License at\n",
              "//\n",
              "//      http://www.apache.org/licenses/LICENSE-2.0\n",
              "//\n",
              "// Unless required by applicable law or agreed to in writing, software\n",
              "// distributed under the License is distributed on an \"AS IS\" BASIS,\n",
              "// WITHOUT WARRANTIES OR CONDITIONS OF ANY KIND, either express or implied.\n",
              "// See the License for the specific language governing permissions and\n",
              "// limitations under the License.\n",
              "\n",
              "/**\n",
              " * @fileoverview Helpers for google.colab Python module.\n",
              " */\n",
              "(function(scope) {\n",
              "function span(text, styleAttributes = {}) {\n",
              "  const element = document.createElement('span');\n",
              "  element.textContent = text;\n",
              "  for (const key of Object.keys(styleAttributes)) {\n",
              "    element.style[key] = styleAttributes[key];\n",
              "  }\n",
              "  return element;\n",
              "}\n",
              "\n",
              "// Max number of bytes which will be uploaded at a time.\n",
              "const MAX_PAYLOAD_SIZE = 100 * 1024;\n",
              "\n",
              "function _uploadFiles(inputId, outputId) {\n",
              "  const steps = uploadFilesStep(inputId, outputId);\n",
              "  const outputElement = document.getElementById(outputId);\n",
              "  // Cache steps on the outputElement to make it available for the next call\n",
              "  // to uploadFilesContinue from Python.\n",
              "  outputElement.steps = steps;\n",
              "\n",
              "  return _uploadFilesContinue(outputId);\n",
              "}\n",
              "\n",
              "// This is roughly an async generator (not supported in the browser yet),\n",
              "// where there are multiple asynchronous steps and the Python side is going\n",
              "// to poll for completion of each step.\n",
              "// This uses a Promise to block the python side on completion of each step,\n",
              "// then passes the result of the previous step as the input to the next step.\n",
              "function _uploadFilesContinue(outputId) {\n",
              "  const outputElement = document.getElementById(outputId);\n",
              "  const steps = outputElement.steps;\n",
              "\n",
              "  const next = steps.next(outputElement.lastPromiseValue);\n",
              "  return Promise.resolve(next.value.promise).then((value) => {\n",
              "    // Cache the last promise value to make it available to the next\n",
              "    // step of the generator.\n",
              "    outputElement.lastPromiseValue = value;\n",
              "    return next.value.response;\n",
              "  });\n",
              "}\n",
              "\n",
              "/**\n",
              " * Generator function which is called between each async step of the upload\n",
              " * process.\n",
              " * @param {string} inputId Element ID of the input file picker element.\n",
              " * @param {string} outputId Element ID of the output display.\n",
              " * @return {!Iterable<!Object>} Iterable of next steps.\n",
              " */\n",
              "function* uploadFilesStep(inputId, outputId) {\n",
              "  const inputElement = document.getElementById(inputId);\n",
              "  inputElement.disabled = false;\n",
              "\n",
              "  const outputElement = document.getElementById(outputId);\n",
              "  outputElement.innerHTML = '';\n",
              "\n",
              "  const pickedPromise = new Promise((resolve) => {\n",
              "    inputElement.addEventListener('change', (e) => {\n",
              "      resolve(e.target.files);\n",
              "    });\n",
              "  });\n",
              "\n",
              "  const cancel = document.createElement('button');\n",
              "  inputElement.parentElement.appendChild(cancel);\n",
              "  cancel.textContent = 'Cancel upload';\n",
              "  const cancelPromise = new Promise((resolve) => {\n",
              "    cancel.onclick = () => {\n",
              "      resolve(null);\n",
              "    };\n",
              "  });\n",
              "\n",
              "  // Wait for the user to pick the files.\n",
              "  const files = yield {\n",
              "    promise: Promise.race([pickedPromise, cancelPromise]),\n",
              "    response: {\n",
              "      action: 'starting',\n",
              "    }\n",
              "  };\n",
              "\n",
              "  cancel.remove();\n",
              "\n",
              "  // Disable the input element since further picks are not allowed.\n",
              "  inputElement.disabled = true;\n",
              "\n",
              "  if (!files) {\n",
              "    return {\n",
              "      response: {\n",
              "        action: 'complete',\n",
              "      }\n",
              "    };\n",
              "  }\n",
              "\n",
              "  for (const file of files) {\n",
              "    const li = document.createElement('li');\n",
              "    li.append(span(file.name, {fontWeight: 'bold'}));\n",
              "    li.append(span(\n",
              "        `(${file.type || 'n/a'}) - ${file.size} bytes, ` +\n",
              "        `last modified: ${\n",
              "            file.lastModifiedDate ? file.lastModifiedDate.toLocaleDateString() :\n",
              "                                    'n/a'} - `));\n",
              "    const percent = span('0% done');\n",
              "    li.appendChild(percent);\n",
              "\n",
              "    outputElement.appendChild(li);\n",
              "\n",
              "    const fileDataPromise = new Promise((resolve) => {\n",
              "      const reader = new FileReader();\n",
              "      reader.onload = (e) => {\n",
              "        resolve(e.target.result);\n",
              "      };\n",
              "      reader.readAsArrayBuffer(file);\n",
              "    });\n",
              "    // Wait for the data to be ready.\n",
              "    let fileData = yield {\n",
              "      promise: fileDataPromise,\n",
              "      response: {\n",
              "        action: 'continue',\n",
              "      }\n",
              "    };\n",
              "\n",
              "    // Use a chunked sending to avoid message size limits. See b/62115660.\n",
              "    let position = 0;\n",
              "    do {\n",
              "      const length = Math.min(fileData.byteLength - position, MAX_PAYLOAD_SIZE);\n",
              "      const chunk = new Uint8Array(fileData, position, length);\n",
              "      position += length;\n",
              "\n",
              "      const base64 = btoa(String.fromCharCode.apply(null, chunk));\n",
              "      yield {\n",
              "        response: {\n",
              "          action: 'append',\n",
              "          file: file.name,\n",
              "          data: base64,\n",
              "        },\n",
              "      };\n",
              "\n",
              "      let percentDone = fileData.byteLength === 0 ?\n",
              "          100 :\n",
              "          Math.round((position / fileData.byteLength) * 100);\n",
              "      percent.textContent = `${percentDone}% done`;\n",
              "\n",
              "    } while (position < fileData.byteLength);\n",
              "  }\n",
              "\n",
              "  // All done.\n",
              "  yield {\n",
              "    response: {\n",
              "      action: 'complete',\n",
              "    }\n",
              "  };\n",
              "}\n",
              "\n",
              "scope.google = scope.google || {};\n",
              "scope.google.colab = scope.google.colab || {};\n",
              "scope.google.colab._files = {\n",
              "  _uploadFiles,\n",
              "  _uploadFilesContinue,\n",
              "};\n",
              "})(self);\n",
              "</script> "
            ]
          },
          "metadata": {}
        },
        {
          "output_type": "stream",
          "name": "stdout",
          "text": [
            "Saving autumn-day-rural-garden-frame-600w-1798373137.jpeg to autumn-day-rural-garden-frame-600w-1798373137.jpeg\n",
            "User uploaded file \"autumn-day-rural-garden-frame-600w-1798373137.jpeg\" with length 68280 bytes\n"
          ]
        }
      ]
    },
    {
      "cell_type": "code",
      "source": [
        "## DUnction for predicting Custom images.\n",
        "\n",
        "import numpy as np\n",
        "\n",
        "def pred_img(img_path, img_size):\n",
        "  \n",
        "  # Load the image using PIL\n",
        "  img = Image.open(img_path)\n",
        "\n",
        "  # Resize the image to (150, 150)\n",
        "  img = img.resize(img_size)\n",
        "\n",
        "  # Convert the image to RGB format\n",
        "  img = img.convert('RGB')\n",
        "\n",
        "  # Convert the PIL image to a NumPy array\n",
        "  img_array = np.array(img)\n",
        "\n",
        "  # Reshape the array to a 4D tensor with shape (1, 150, 150, 3)\n",
        "  img_tensor = img_array.reshape((1, 150, 150, 3))\n",
        "\n",
        "  # Normalize the pixel values to be between 0 and 1\n",
        "  img_tensor = img_tensor / 255.0\n",
        "\n",
        "  # Now you can pass img_tensor to your image classification model for prediction\n",
        "  x = model.predict(img_tensor)\n",
        "\n",
        "  return x"
      ],
      "metadata": {
        "id": "FUPK7sR8xzU-"
      },
      "execution_count": null,
      "outputs": []
    },
    {
      "cell_type": "code",
      "source": [
        "pred_img(\"/content/drive/MyDrive/Precision Agriculture/Task1 Prep Data/autumn-day-rural-garden-frame-600w-1798373137.jpeg\", (150, 150))"
      ],
      "metadata": {
        "colab": {
          "base_uri": "https://localhost:8080/"
        },
        "id": "4O20UysT8ki1",
        "outputId": "1a94863a-7281-4297-b7e5-1a2b788dc96d"
      },
      "execution_count": null,
      "outputs": [
        {
          "output_type": "stream",
          "name": "stdout",
          "text": [
            "1/1 [==============================] - 0s 180ms/step\n"
          ]
        },
        {
          "output_type": "execute_result",
          "data": {
            "text/plain": [
              "array([[9.9997818e-01, 3.3891627e-06, 1.8427849e-05]], dtype=float32)"
            ]
          },
          "metadata": {},
          "execution_count": 32
        }
      ]
    },
    {
      "cell_type": "code",
      "source": [],
      "metadata": {
        "id": "b4xqX4zc98WE"
      },
      "execution_count": null,
      "outputs": []
    }
  ]
}